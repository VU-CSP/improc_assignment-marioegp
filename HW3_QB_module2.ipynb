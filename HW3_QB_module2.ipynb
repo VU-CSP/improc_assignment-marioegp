{
 "cells": [
  {
   "cell_type": "code",
   "execution_count": 1,
   "id": "b9e90605",
   "metadata": {},
   "outputs": [
    {
     "name": "stderr",
     "output_type": "stream",
     "text": [
      "/Users/mariogarcia/opt/anaconda3/lib/python3.9/site-packages/scipy/__init__.py:146: UserWarning: A NumPy version >=1.16.5 and <1.23.0 is required for this version of SciPy (detected version 1.24.2\n",
      "  warnings.warn(f\"A NumPy version >={np_minversion} and <{np_maxversion}\"\n"
     ]
    }
   ],
   "source": [
    "import pandas as pd\n",
    "import numpy as np\n",
    "import seaborn as sns"
   ]
  },
  {
   "cell_type": "code",
   "execution_count": 2,
   "id": "297c1f8c",
   "metadata": {},
   "outputs": [],
   "source": [
    "# Code to read Results and show head\n",
    "hw = pd.read_csv('/Users/mariogarcia/Documents/Quant. Bio/Results.csv')"
   ]
  },
  {
   "cell_type": "code",
   "execution_count": 3,
   "id": "a13c1fad",
   "metadata": {},
   "outputs": [
    {
     "data": {
      "text/plain": [
       "<bound method NDFrame.head of             Area      Mean   Min    Max\n",
       "0        1   443  5088.156  3382   6816\n",
       "1        2   290  4619.883  3409   6133\n",
       "2        3   361  4412.784  3383   5794\n",
       "3        4   466  4382.142  3382   5724\n",
       "4        5   306  4510.882  3386   5891\n",
       "...    ...   ...       ...   ...    ...\n",
       "1412  1413   483  8471.656  3385  19178\n",
       "1413  1414   421  5151.998  3389   6666\n",
       "1414  1415   303  5644.944  3398   7937\n",
       "1415  1416   338  5157.337  3433   6728\n",
       "1416  1417   291  6155.608  3397  10026\n",
       "\n",
       "[1417 rows x 5 columns]>"
      ]
     },
     "execution_count": 3,
     "metadata": {},
     "output_type": "execute_result"
    }
   ],
   "source": [
    "hw.head"
   ]
  },
  {
   "cell_type": "code",
   "execution_count": 12,
   "id": "a5fdf459",
   "metadata": {},
   "outputs": [
    {
     "data": {
      "text/plain": [
       "<AxesSubplot: xlabel='Area', ylabel='Count'>"
      ]
     },
     "execution_count": 12,
     "metadata": {},
     "output_type": "execute_result"
    },
    {
     "data": {
      "image/png": "[encoded data removed]",
      "text/plain": [
       "<Figure size 432x288 with 1 Axes>"
      ]
     },
     "metadata": {
      "needs_background": "light"
     },
     "output_type": "display_data"
    }
   ],
   "source": [
    "# Code to plot a histogram of the Area\n",
    "sns.histplot(data=hw, x=\"Area\")"
   ]
  },
  {
   "cell_type": "code",
   "execution_count": 16,
   "id": "29d0cb3e",
   "metadata": {},
   "outputs": [
    {
     "data": {
      "text/plain": [
       "         709.000000\n",
       "Area     340.318984\n",
       "Mean    5153.239318\n",
       "Min     3396.501059\n",
       "Max     7187.458010\n",
       "dtype: float64"
      ]
     },
     "execution_count": 16,
     "metadata": {},
     "output_type": "execute_result"
    }
   ],
   "source": [
    "hw.mean()"
   ]
  },
  {
   "cell_type": "code",
   "execution_count": 14,
   "id": "e40b5ce0",
   "metadata": {},
   "outputs": [
    {
     "data": {
      "text/plain": [
       "         409.196978\n",
       "Area      71.323158\n",
       "Mean    1179.941195\n",
       "Min       17.159855\n",
       "Max     2834.146456\n",
       "dtype: float64"
      ]
     },
     "execution_count": 14,
     "metadata": {},
     "output_type": "execute_result"
    }
   ],
   "source": [
    "hw.std()"
   ]
  },
  {
   "cell_type": "code",
   "execution_count": null,
   "id": "d4eb41d6",
   "metadata": {},
   "outputs": [],
   "source": [
    "##Describe your interpretation of the distribution of the measurements of nuclear area below.#\n",
    "\n",
    "#Based on what you see, would you choose different value ranges of particle sizes for counting? Explain why."
   ]
  },
  {
   "cell_type": "code",
   "execution_count": null,
   "id": "143c5f16",
   "metadata": {},
   "outputs": [],
   "source": [
    "# I would leave the minimum range at 20 because results show there are no particles less than 150. I would expand the maximun range to ~750 because there may be some nuclei larger than 500. There are alot around the 500 range "
   ]
  }
 ],
 "metadata": {
  "kernelspec": {
   "display_name": "Python 3 (ipykernel)",
   "language": "python",
   "name": "python3"
  },
  "language_info": {
   "codemirror_mode": {
    "name": "ipython",
    "version": 3
   },
   "file_extension": ".py",
   "mimetype": "text/x-python",
   "name": "python",
   "nbconvert_exporter": "python",
   "pygments_lexer": "ipython3",
   "version": "3.9.12"
  }
 },
 "nbformat": 4,
 "nbformat_minor": 5
}
